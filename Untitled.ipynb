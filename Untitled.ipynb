{
 "cells": [
  {
   "cell_type": "code",
   "execution_count": 52,
   "metadata": {},
   "outputs": [
    {
     "name": "stdout",
     "output_type": "stream",
     "text": [
      "101042\n",
      "Datenschutz\n"
     ]
    }
   ],
   "source": [
    "class ME():\n",
    "    def __init__(self):\n",
    "        self.__einträge = []\n",
    "        \n",
    "    def add(self,ME_ID,ME_Name):\n",
    "        ME.append(ME_ID,ME_Name)\n",
    "        \n",
    "\n",
    "\n",
    "class OrgME():\n",
    "    def __init__(self, OrgME_ID,OrgME_Name):\n",
    "        self.OrgME = OrgME\n",
    "        self.OrgME_ID = OrgME_ID\n",
    "        self.OrgME_Name = OrgME_Name\n",
    "        \n",
    "    def __str__(self):\n",
    "        return str(self.OrgME_ID + \", \" + self.OrgME_Name)\n",
    "    \n",
    "    def info(self):\n",
    "        ID=self.OrgME_ID\n",
    "        Name=str(self.OrgME_Name)\n",
    "        print(ID)\n",
    "        \n",
    "\n",
    "class PC(OrgME):\n",
    "    def __init__(self, ME_ID,PC_ID,PC_Name):\n",
    "        super().__init__(ME_ID)\n",
    "        self.PC=PC\n",
    "        self.PC_ID=PC_ID\n",
    "        self.PC_Name=PC_Name\n",
    "\n",
    "        \n",
    "DRC= OrgME(\"101042\",\"Datenschutz\")\n",
    "print(DRC.OrgME_ID)\n",
    "print(DRC.OrgME_Name)\n",
    "\n",
    "        "
   ]
  },
  {
   "cell_type": "code",
   "execution_count": null,
   "metadata": {},
   "outputs": [],
   "source": []
  },
  {
   "cell_type": "code",
   "execution_count": null,
   "metadata": {},
   "outputs": [],
   "source": []
  }
 ],
 "metadata": {
  "kernelspec": {
   "display_name": "Python 3",
   "language": "python",
   "name": "python3"
  },
  "language_info": {
   "codemirror_mode": {
    "name": "ipython",
    "version": 3
   },
   "file_extension": ".py",
   "mimetype": "text/x-python",
   "name": "python",
   "nbconvert_exporter": "python",
   "pygments_lexer": "ipython3",
   "version": "3.7.4"
  }
 },
 "nbformat": 4,
 "nbformat_minor": 2
}
